{
 "cells": [
  {
   "cell_type": "code",
   "execution_count": 1,
   "id": "9b493929",
   "metadata": {},
   "outputs": [],
   "source": [
    "from pyspark import SparkConf, SparkContext\n",
    "conf = SparkConf().setMaster('local').setAppName('Friends By Age')\n",
    "sc = SparkContext(conf = conf)"
   ]
  },
  {
   "cell_type": "code",
   "execution_count": 23,
   "id": "894c77ce-6068-437a-ae9f-593adb5a08b2",
   "metadata": {},
   "outputs": [],
   "source": [
    "def parseLine(line: str):\n",
    "    fields = line.split(',')\n",
    "    age = int(fields[2])\n",
    "    numFriends = int(fields[3])\n",
    "    return (age, numFriends)"
   ]
  },
  {
   "cell_type": "code",
   "execution_count": 12,
   "id": "398c2d76-9602-44c8-a91a-d20b8e475179",
   "metadata": {},
   "outputs": [],
   "source": [
    "lines = sc.textFile(\"./__mock__/fakefriends.csv\")"
   ]
  },
  {
   "cell_type": "code",
   "execution_count": 40,
   "id": "fcc347a3-ea5b-4409-9762-2587e309f195",
   "metadata": {},
   "outputs": [],
   "source": [
    "rdd = lines.map(parseLine)\n",
    "values = rdd.mapValues(lambda x: (x, 1))\n",
    "totalsByAge = values.reduceByKey(lambda x, y: (x[0] + y[0], x[1] + y[1]))\n",
    "averagesByAge = totalsByAge.mapValues(lambda x: x[0] / x[1])"
   ]
  },
  {
   "cell_type": "code",
   "execution_count": 62,
   "id": "a8af352b-83e6-4a74-841a-e37901177eb3",
   "metadata": {},
   "outputs": [
    {
     "data": {
      "text/plain": [
       "[('a', 3), ('b', 1)]"
      ]
     },
     "execution_count": 62,
     "metadata": {},
     "output_type": "execute_result"
    }
   ],
   "source": [
    "x = sc.parallelize([(\"a\", [\"apple\", \"banana\", \"lemon\"]), (\"b\", [\"grapes\"])])\n",
    "x.mapValues(lambda x: len(x)).collect()"
   ]
  },
  {
   "cell_type": "code",
   "execution_count": null,
   "id": "07aff755-ba2c-4a31-88d2-1155a2251ef8",
   "metadata": {},
   "outputs": [],
   "source": []
  }
 ],
 "metadata": {
  "kernelspec": {
   "display_name": "Python 3 (ipykernel)",
   "language": "python",
   "name": "python3"
  },
  "language_info": {
   "codemirror_mode": {
    "name": "ipython",
    "version": 3
   },
   "file_extension": ".py",
   "mimetype": "text/x-python",
   "name": "python",
   "nbconvert_exporter": "python",
   "pygments_lexer": "ipython3",
   "version": "3.10.6"
  }
 },
 "nbformat": 4,
 "nbformat_minor": 5
}
