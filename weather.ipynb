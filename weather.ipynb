{
 "cells": [
  {
   "cell_type": "code",
   "execution_count": 1,
   "id": "9b493929",
   "metadata": {},
   "outputs": [],
   "source": [
    "from pyspark import SparkConf, SparkContext\n",
    "conf = SparkConf().setMaster('local').setAppName('Friends By Age')\n",
    "sc = SparkContext(conf = conf)"
   ]
  },
  {
   "cell_type": "code",
   "execution_count": 2,
   "id": "398c2d76-9602-44c8-a91a-d20b8e475179",
   "metadata": {},
   "outputs": [],
   "source": [
    "lines = sc.textFile(\"./__mock__/1800.csv\")"
   ]
  },
  {
   "cell_type": "code",
   "execution_count": 3,
   "id": "44e5c735-8c4b-4bd9-80ce-29d5770d928f",
   "metadata": {},
   "outputs": [],
   "source": [
    "def toFahrenheit(val):\n",
    "    return float(val) * 0.1 * (9.0/5.0) + 32.0"
   ]
  },
  {
   "cell_type": "code",
   "execution_count": 4,
   "id": "955e8cef-7f6d-441e-99bb-027166264c44",
   "metadata": {},
   "outputs": [],
   "source": [
    "def parseLines(line: str):\n",
    "    fields = line.split(',')\n",
    "    stationId = fields[0]\n",
    "    entryType = fields[2]\n",
    "    temperature = toFahrenheit(fields[3])\n",
    "    return (stationId,entryType,temperature) "
   ]
  },
  {
   "cell_type": "code",
   "execution_count": 8,
   "id": "fcc347a3-ea5b-4409-9762-2587e309f195",
   "metadata": {},
   "outputs": [
    {
     "name": "stdout",
     "output_type": "stream",
     "text": [
      "ITE00100554\t5.36F\n",
      "EZE00100082\t7.70F\n",
      "ITE00100554\t90.14F\n",
      "EZE00100082\t90.14F\n"
     ]
    }
   ],
   "source": [
    "rdd = lines.map(parseLines)\n",
    "minTems = rdd.filter(lambda x: \"TMIN\" in x[1]).map(lambda x: (x[0], x[2])).reduceByKey(lambda x, y: min(x, y))\n",
    "maxTems = rdd.filter(lambda x: \"TMAX\" in x[1]).map(lambda x: (x[0], x[2])).reduceByKey(lambda x, y: max(x, y))\n",
    "minResult = minTems.collect()\n",
    "maxResult = maxTems.collect()\n",
    "\n",
    "for result in minResult:\n",
    "    print(result[0] + \"\\t{:.2f}F\".format(result[1]))\n",
    "    \n",
    "for result in maxResult:\n",
    "    print(result[0] + \"\\t{:.2f}F\".format(result[1]))\n"
   ]
  },
  {
   "cell_type": "code",
   "execution_count": null,
   "id": "a40a0754-c323-438c-aba3-dc2dca82354c",
   "metadata": {},
   "outputs": [],
   "source": []
  }
 ],
 "metadata": {
  "kernelspec": {
   "display_name": "Python 3 (ipykernel)",
   "language": "python",
   "name": "python3"
  },
  "language_info": {
   "codemirror_mode": {
    "name": "ipython",
    "version": 3
   },
   "file_extension": ".py",
   "mimetype": "text/x-python",
   "name": "python",
   "nbconvert_exporter": "python",
   "pygments_lexer": "ipython3",
   "version": "3.10.6"
  }
 },
 "nbformat": 4,
 "nbformat_minor": 5
}
